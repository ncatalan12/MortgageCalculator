{
 "cells": [
  {
   "cell_type": "code",
   "execution_count": null,
   "id": "0",
   "metadata": {},
   "outputs": [],
   "source": [
    "from mortgage_calculator import MortgageCalculator\n",
    "\n",
    "# Mortgage info\n",
    "home_cost = 500_000\n",
    "loan_term = 30\n",
    "interest_rate = 0.05\n",
    "down_payment_percent = 0.2\n",
    "mortgage_calc = MortgageCalculator(home_cost, loan_term, interest_rate, down_payment_percent)\n",
    "print(f\"Home cost: ${home_cost} Down Payment ${mortgage_calc.down_payment_amount:.2f} Loan ${mortgage_calc.loan_amount}\")\n",
    "print(f\"Monthly payment ${mortgage_calc.monthly_payment:.2f}\")"
   ]
  },
  {
   "cell_type": "code",
   "execution_count": null,
   "id": "1",
   "metadata": {},
   "outputs": [],
   "source": [
    "from tax_calculator import FilingStatus, FederalTaxCalculator, StateTaxCalculator\n",
    "\n",
    "# Income tax info\n",
    "filing_status = FilingStatus.SINGLE\n",
    "gross_income = 100_000\n",
    "# Deductions taken to calculate gross income (ex. 401k, Health insurance premiums FSA, HSA, Traditional IRA, etc.)\n",
    "above_line_deductions = 0\n",
    "# Deductions taken to calculate taxable income, might not apply if less than standard deduction (ex. some medical expenses, charitable donations)\n",
    "# Exclude mortgage interest and state and local taxes for now, we'll calculate these and account for them\n",
    "itemized_deductions = 0\n",
    "\n",
    "# Taxes before mortgage\n",
    "ny_tax_calc = StateTaxCalculator(\"NY\", filing_status, gross_income, above_line_deductions, itemized_deductions)\n",
    "state_income_tax_wo_mortgage = ny_tax_calc.calc_income_taxes_without_mortgage()\n",
    "\n",
    "fed_tax_calc = FederalTaxCalculator(filing_status, gross_income, above_line_deductions, itemized_deductions)\n",
    "fed_taxes_wo_mortgage = fed_tax_calc.calc_taxes_without_mortgage(state_income_tax_wo_mortgage)\n",
    "print(f\"Taxes before mortgage and property taxes: Federal Income Tax ${fed_taxes_wo_mortgage:.2f}, State Income Tax ${state_income_tax_wo_mortgage:.2f}\")    \n",
    "\n",
    "# Taxes after mortgage, accounts for interest paid in the first year. Subsequent years will have lower interest payment and therefore tax savings\n",
    "property_tax = ny_tax_calc.calc_property_tax(home_cost)\n",
    "year_one_interest = mortgage_calc.get_year_one_interest()\n",
    "state_income_tax_w_mortgage = ny_tax_calc.calc_income_taxes_with_mortgage(mortgage_calc.loan_amount, year_one_interest)\n",
    "total_state_tax = property_tax + state_income_tax_wo_mortgage\n",
    "\n",
    "fed_taxes_w_mortgage = fed_tax_calc.calc_taxes_with_mortgage(mortgage_calc.loan_amount, year_one_interest, total_state_tax)\n",
    "print(f\"Taxes after mortgage and property taxes: Federial Income Tax ${fed_taxes_w_mortgage:.2f}, State Income Tax ${state_income_tax_w_mortgage:.2f}, Property Tax ${property_tax:.2f}\")\n",
    "\n",
    "total_taxes_wo_mortgage = fed_taxes_wo_mortgage + state_income_tax_wo_mortgage\n",
    "total_taxes_w_mortgage = fed_taxes_w_mortgage + state_income_tax_w_mortgage + property_tax\n",
    "additional_taxes = total_taxes_w_mortgage - total_taxes_wo_mortgage\n",
    "print(f\"Total taxes before mortgage: ${total_taxes_wo_mortgage:.2f}, Total taxes after mortgage: ${total_taxes_w_mortgage:.2f}, Additional Taxes: ${additional_taxes:.2f}\")\n",
    "\n",
    "income_tax_savings = (state_income_tax_wo_mortgage - state_income_tax_w_mortgage) + (fed_taxes_wo_mortgage - fed_taxes_w_mortgage)\n",
    "print(f\"Income tax savings: ${income_tax_savings:.2f}\")"
   ]
  },
  {
   "cell_type": "code",
   "execution_count": null,
   "id": "2",
   "metadata": {},
   "outputs": [],
   "source": [
    "# Year one home owernship costs. Note: does not include insurance, HOA, maintenance, etc.\n",
    "mortgage_payments = mortgage_calc.annual_payments\n",
    "total_annual_cost = mortgage_payments + property_tax - income_tax_savings\n",
    "monthly_cost = total_annual_cost / 12\n",
    "print(f\"Total Annual Cost: ${total_annual_cost:.2f}, Monthly Cost: ${monthly_cost:.2f}\")"
   ]
  },
  {
   "cell_type": "code",
   "execution_count": null,
   "id": "3",
   "metadata": {},
   "outputs": [],
   "source": [
    "import matplotlib.pyplot as plt\n",
    "\n",
    "# Visualize equity vs. interest payments over time\n",
    "plt.figure()\n",
    "plt.plot(mortgage_calc.amortization_table.index, mortgage_calc.amortization_table[\"Interest Payment\"], label=\"Interest\")\n",
    "plt.plot(mortgage_calc.amortization_table.index, mortgage_calc.amortization_table[\"Principal Payment\"], label=\"Principal\")\n",
    "plt.title(\"Interest Payments Over Time\", fontsize=16)\n",
    "plt.xlabel(\"Month\", fontsize=12)\n",
    "plt.ylabel(\"Payment Amount ($)\", fontsize=12)\n",
    "plt.legend()\n",
    "plt.grid(True)\n",
    "plt.tight_layout()"
   ]
  },
  {
   "cell_type": "code",
   "execution_count": null,
   "id": "4",
   "metadata": {},
   "outputs": [],
   "source": [
    "# Visualize Home Equity vs. Load Balance over time\n",
    "plt.figure()\n",
    "plt.plot(mortgage_calc.amortization_table.index, mortgage_calc.amortization_table[\"Balance\"], label=\"Balance\")\n",
    "plt.plot(mortgage_calc.amortization_table.index, mortgage_calc.amortization_table[\"Equity\"], label=\"Equity\")\n",
    "plt.title(\"Equity and Load Balance Over Time\", fontsize=16)\n",
    "plt.xlabel(\"Month\", fontsize=12)\n",
    "plt.ylabel(\"$\", fontsize=12)\n",
    "plt.legend()\n",
    "plt.grid(True)\n",
    "plt.tight_layout()"
   ]
  },
  {
   "cell_type": "code",
   "execution_count": null,
   "id": "5",
   "metadata": {},
   "outputs": [],
   "source": []
  }
 ],
 "metadata": {
  "kernelspec": {
   "display_name": "Python 3 (ipykernel)",
   "language": "python",
   "name": "python3"
  },
  "language_info": {
   "codemirror_mode": {
    "name": "ipython",
    "version": 3
   },
   "file_extension": ".py",
   "mimetype": "text/x-python",
   "name": "python",
   "nbconvert_exporter": "python",
   "pygments_lexer": "ipython3",
   "version": "3.12.2"
  }
 },
 "nbformat": 4,
 "nbformat_minor": 5
}
